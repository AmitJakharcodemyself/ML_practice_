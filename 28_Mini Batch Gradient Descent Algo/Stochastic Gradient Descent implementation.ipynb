{
 "cells": [
  {
   "cell_type": "markdown",
   "metadata": {},
   "source": [
    "#### 1.It is a special case of Mini batch gradient descent as here batch size is taken=1                                                                               2.Mini Batch G.D is preferrable over SGD bcoz here we can't use Vectorization                                                                                         3. It's convergence rate is faster than both other algo"
   ]
  },
  {
   "cell_type": "code",
   "execution_count": 1,
   "metadata": {},
   "outputs": [],
   "source": [
    "import numpy as np\n",
    "import pandas as pd\n",
    "import matplotlib.pyplot as plt\n",
    "from sklearn.datasets import load_boston\n",
    "from sklearn.datasets import make_regression"
   ]
  },
  {
   "cell_type": "code",
   "execution_count": 2,
   "metadata": {},
   "outputs": [],
   "source": [
    "# creatin a sample data\n",
    "x,y=make_regression(n_samples=10000,n_features=20,n_informative=20,random_state=1,noise=5)\n",
    "# normalization of sample data\n",
    "u=np.mean(x,axis=0)\n",
    "std=np.std(x,axis=0)\n",
    "x=(x-u)/std"
   ]
  },
  {
   "cell_type": "code",
   "execution_count": 3,
   "metadata": {},
   "outputs": [
    {
     "name": "stdout",
     "output_type": "stream",
     "text": [
      "(10000, 21)\n"
     ]
    }
   ],
   "source": [
    "# adding dummy column /feature having all values =1 or X[0]th column using hstack\n",
    "ones=np.ones((x.shape[0],1))# a matrix\n",
    "x=np.hstack((ones,x))# in order,NOTE_> in hstack both should be matrix notanyone vector)\n",
    "print(x.shape)"
   ]
  },
  {
   "cell_type": "code",
   "execution_count": 9,
   "metadata": {},
   "outputs": [],
   "source": [
    "def hypothesis(X,theta):\n",
    "    return np.dot(X,theta)\n",
    "\n",
    "def error(X,y,theta):\n",
    "    m=X.shape[0]\n",
    "    e = 0.0\n",
    "    y_ = hypothesis(X,theta)\n",
    "    e = np.sum((y-y_)**2)\n",
    "    \n",
    "    return e/m\n",
    "    \n",
    "def gradient(X,y,theta):\n",
    "    \n",
    "    y_ = hypothesis(X,theta)\n",
    "    grad = np.dot(X.T,(y_ - y))\n",
    "    m = X.shape[0]\n",
    "    return grad/m\n",
    "\n",
    "# Batch Gradient Descent Algo\n",
    "def gradient_descent(X,y,learning_rate = 0.01,max_iters=300):\n",
    "    \n",
    "    n = X.shape[1]\n",
    "    theta = np.zeros((n,))\n",
    "    error_list = []\n",
    "    \n",
    "    for i in range(max_iters):\n",
    "        e = error(X,y,theta)\n",
    "        error_list.append(e)\n",
    "        \n",
    "        #Gradient descent is calculated by iterating over all data in single epoch\n",
    "        grad = gradient(X,y,theta)\n",
    "        theta = theta - learning_rate*grad\n",
    "        \n",
    "    return theta,error_list\n",
    "\n",
    "# Stochastic Gradient descent Algo-> Batch size=1\n",
    "def Stochastic_descent_algo(X,Y,batch_sz=1,learning_rate=0.01,max_iters=10):\n",
    "    n=X.shape[1]\n",
    "    m=X.shape[0]\n",
    "    theta=np.zeros((n,))# a vector\n",
    "    error_list=[]\n",
    "    error_list_batch=[]\n",
    "    \n",
    "    # y used in argument i vector not a matrix\n",
    "    #Y=Y.reshape((-1,1))# -1 is used one row is not kknown but columns are known==1\n",
    "    # we are to not assigning y to updated y as we have to use it again in error function\n",
    "    data_mat=np.hstack((X,Y.reshape(-1,1)))# here y rehsape rerturn another but 'll not update former y'\n",
    "    # ***NOTE-> reshape doesn't mutate the original araay it just returns the copy***\n",
    "    for i in range(max_iters):\n",
    "        e=error(X,Y.reshape((m,)),theta)\n",
    "        error_list.append(e)\n",
    "      #  error_list_batch.append(e)\n",
    "        \n",
    "        np.random.shuffle(data_mat)# doesn't return it changes the data array # void type\n",
    "        total_batches=X.shape[0]//batch_sz\n",
    "        \n",
    "        for batch in range(total_batches):\n",
    "            batch_data=data_mat[batch*batch_sz:(batch+1)*batch_sz,:]# here right sided index is not included-> (0,29) if batch size=30\n",
    "            x_batch=batch_data[:,:-1]\n",
    "            y_batch=batch_data[:,-1]\n",
    "            \n",
    "            # mini batch gradient\n",
    "            batch_gradient=gradient(x_batch,y_batch,theta)\n",
    "            theta=theta-learning_rate*batch_gradient\n",
    "            \n",
    "            e=error(x_batch,y_batch,theta)\n",
    "            error_list_batch.append(e)\n",
    "    return theta,error_list,error_list_batch"
   ]
  },
  {
   "cell_type": "code",
   "execution_count": 10,
   "metadata": {},
   "outputs": [],
   "source": [
    "theta1,error_list_1=gradient_descent(x,y)\n",
    "theta,error_list_2,error_list_batch=Stochastic_descent_algo(x,y)"
   ]
  },
  {
   "cell_type": "code",
   "execution_count": 11,
   "metadata": {},
   "outputs": [
    {
     "data": {
      "image/png": "[encoded data removed]",
      "text/plain": [
       "<Figure size 432x288 with 2 Axes>"
      ]
     },
     "metadata": {
      "needs_background": "light"
     },
     "output_type": "display_data"
    }
   ],
   "source": [
    "# this is plot of error(after each epoch not after each batch) vas lenght of list\n",
    "plt.subplot(1,2,1)\n",
    "plt.plot(np.arange(len(error_list_1)),error_list_1)\n",
    "\n",
    "plt.subplot(1,2,2)\n",
    "plt.plot(np.arange(len(error_list_2)),error_list_2)\n",
    "plt.show()\n",
    "# so we can clearly see that 2nd one (Stochastic gradient algo ) converges faster than Batch gardient algo and MBGD (both)\n",
    "# 2nd one reached nearly to correct theta in very less length of list"
   ]
  },
  {
   "cell_type": "code",
   "execution_count": 14,
   "metadata": {},
   "outputs": [
    {
     "data": {
      "image/png": "[encoded data removed]",
      "text/plain": [
       "<Figure size 432x288 with 1 Axes>"
      ]
     },
     "metadata": {
      "needs_background": "light"
     },
     "output_type": "display_data"
    }
   ],
   "source": [
    "# To see the NOISY effetc plot error list containing erros after each batch va lenght array\n",
    "# bu to get it clearly take min iteration(here 10 taken on 10000 examples and batch size=1\n",
    "#) an lesst learning rate\n",
    "plt.figure()\n",
    "plt.plot(np.arange(len(error_list_batch)),error_list_batch)\n",
    "plt.show()"
   ]
  },
  {
   "cell_type": "code",
   "execution_count": 15,
   "metadata": {},
   "outputs": [
    {
     "name": "stdout",
     "output_type": "stream",
     "text": [
      "187.9965607323772\n",
      "28.842147682861704\n"
     ]
    }
   ],
   "source": [
    "# Final loss \n",
    "print(error_list_1[-1])# after 300 epochs\n",
    "\n",
    "print(error_list_2[-1])# after 10 epochs"
   ]
  },
  {
   "cell_type": "code",
   "execution_count": null,
   "metadata": {},
   "outputs": [],
   "source": []
  }
 ],
 "metadata": {
  "kernelspec": {
   "display_name": "Python 3",
   "language": "python",
   "name": "python3"
  },
  "language_info": {
   "codemirror_mode": {
    "name": "ipython",
    "version": 3
   },
   "file_extension": ".py",
   "mimetype": "text/x-python",
   "name": "python",
   "nbconvert_exporter": "python",
   "pygments_lexer": "ipython3",
   "version": "3.7.3"
  }
 },
 "nbformat": 4,
 "nbformat_minor": 4
}
