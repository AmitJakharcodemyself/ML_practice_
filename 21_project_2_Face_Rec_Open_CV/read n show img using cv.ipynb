{
 "cells": [
  {
   "cell_type": "code",
   "execution_count": 1,
   "metadata": {},
   "outputs": [],
   "source": [
    "import cv2\n"
   ]
  },
  {
   "cell_type": "code",
   "execution_count": 6,
   "metadata": {},
   "outputs": [],
   "source": [
    "nature=cv2.imread('Sample-png-image-500kb.png')\n",
    "nature_gray=cv2.imread('Sample-png-image-500kb.png',cv2.IMREAD_GRAYSCALE)\n",
    "cv2.imshow(\"nature\",nature)\n",
    "cv2.imshow(\"gray nature\",nature_gray)\n",
    "cv2.waitKey(0)# waiting for input (key_press),this line will execute only if any key is pressed\n",
    "cv2.destroyAllWindows()# all window opened due to this program will close only after the execution of lin 5 -> only \n",
    "# after the key is pressed"
   ]
  },
  {
   "cell_type": "code",
   "execution_count": 5,
   "metadata": {},
   "outputs": [],
   "source": [
    "# NOTE: cv2.waitkey(time)-> whenever we press key i returns a 32 bit integer whose value is equal t ASSCII of that\n",
    "# pressed value so to convert it into a 8-bit just do &(and operation with 11111111===FF(0xFF))"
   ]
  },
  {
   "cell_type": "code",
   "execution_count": null,
   "metadata": {},
   "outputs": [],
   "source": []
  }
 ],
 "metadata": {
  "kernelspec": {
   "display_name": "Python 3",
   "language": "python",
   "name": "python3"
  },
  "language_info": {
   "codemirror_mode": {
    "name": "ipython",
    "version": 3
   },
   "file_extension": ".py",
   "mimetype": "text/x-python",
   "name": "python",
   "nbconvert_exporter": "python",
   "pygments_lexer": "ipython3",
   "version": "3.7.3"
  }
 },
 "nbformat": 4,
 "nbformat_minor": 4
}
