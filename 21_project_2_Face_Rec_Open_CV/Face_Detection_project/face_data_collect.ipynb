{
 "cells": [
  {
   "cell_type": "code",
   "execution_count": 10,
   "metadata": {},
   "outputs": [],
   "source": [
    "# Write a Python Script that captures images from your webcam video stream\n",
    "# Extracts all Faces from the image frame (using haarcascades)\n",
    "# Stores the Face information into numpy arrays\n",
    "\n",
    "# 1. Read and show video stream, capture images\n",
    "# 2. Detect Faces and show bounding box (haarcascade)\n",
    "# 3. Flatten the largest face image(gray scale) and save in a numpy array\n",
    "# 4. Repeat the above for multiple people to generate training data\n"
   ]
  },
  {
   "cell_type": "code",
   "execution_count": 11,
   "metadata": {},
   "outputs": [],
   "source": [
    "import cv2\n",
    "import numpy as np"
   ]
  },
  {
   "cell_type": "code",
   "execution_count": 16,
   "metadata": {},
   "outputs": [
    {
     "name": "stdout",
     "output_type": "stream",
     "text": [
      "face_2\n",
      "1\n",
      "2\n",
      "3\n",
      "4\n",
      "5\n",
      "6\n",
      "7\n",
      "8\n",
      "9\n",
      "10\n",
      "11\n",
      "12\n",
      "13\n",
      "14\n",
      "15\n",
      "16\n",
      "17\n",
      "18\n",
      "19\n",
      "20\n",
      "21\n",
      "22\n",
      "23\n",
      "24\n",
      "25\n",
      "26\n",
      "27\n",
      "28\n",
      "(28, 30000)\n",
      "Data Successfully save at ./data/face_2.npy\n"
     ]
    }
   ],
   "source": [
    " cap=cv2.VideoCapture(0)\n",
    "face_cascades=cv2.CascadeClassifier(\"haar_cascade_frontal_face_alt.xml\")\n",
    "# we stores frame-sections of a same man\n",
    "face_data=[]# a list\n",
    "dataset_path=\"./data/\"\n",
    "file_name=input()\n",
    "skip=0\n",
    "frame_section=np.array([[]])\n",
    "while True:\n",
    "    ret,frame=cap.read()\n",
    "    if ret==False:\n",
    "        continue\n",
    "    # now we have frame of face/an image \n",
    "    faces=face_cascades.detectMultiScale(frame,1.3,5)# now we have info about all faces present in this frame\n",
    "    # faces is list of tuple\n",
    "    # now sort it on the basis of area of face\n",
    "    faces=sorted(faces,key= lambda f:f[2]*f[3],reverse=True )# f=(x,y,w,h) a tuple\n",
    "    # x,y are co-ordinates in th frame w.r.t the origin( top-left corner of frame)\n",
    "    \n",
    "    # Extract the frame section containing the faces with some padding\n",
    "    # NOTE-> we can use slice opeartion on frame and can show this frame section using open cv\n",
    "   \n",
    "    # print(type(frame))-> numpy.ndarray,,Remember\n",
    "    for face_tuple in faces:\n",
    "        padding=10\n",
    "        x,y,w,h=face_tuple\n",
    "        cv2.rectangle(frame,(x,y),(x+w,y+h),(255,0,0),2)\n",
    "        frame_section=frame[y-padding:y+h+padding,x-padding:x+w+padding]# in slice it take (y,x) -> order\n",
    "        # resize the frame (NOTE: not reshaping here)\n",
    "        frame_section=cv2.resize(frame_section,(100,100))\n",
    "        # frame_section is an np array and contains pixel value of that section \n",
    "        # so reshape in liner-vector contained pixel values\n",
    "        skip+=1\n",
    "        if skip%10==0:\n",
    "            face_data.append(frame_section)\n",
    "            print(len(face_data))\n",
    "            \n",
    "    cv2.imshow(\"Frame\",frame)\n",
    "    cv2.imshow(\"frame_section\",frame_section)# to access outseide the for loop we define it a global object \n",
    "\n",
    "    key_pressed = cv2.waitKey(1) & 0xFF\n",
    "    if key_pressed == ord('q'):\n",
    "        break\n",
    "        \n",
    "# Face_data is list of nparrays and face_data.shape[0]==no of faces\n",
    "face_data=np.asarray(face_data)# not it's a 2-d array \n",
    "# so reshape it in such manner that single low containg linerea/vector of all pixel -values of a single face\n",
    "face_data=face_data.reshape((face_data.shape[0],-1))# if we don't coumn bu another can put -1\n",
    "print(face_data.shape)\n",
    "\n",
    "# store this face_data np arrays in file system\n",
    "np.save(dataset_path+file_name+'.npy',face_data)\n",
    "print(\"Data Successfully save at \"+dataset_path+file_name+'.npy')\n",
    "\n",
    "cap.release()\n",
    "cv2.destroyAllWindows()"
   ]
  },
  {
   "cell_type": "code",
   "execution_count": null,
   "metadata": {},
   "outputs": [],
   "source": []
  },
  {
   "cell_type": "code",
   "execution_count": null,
   "metadata": {},
   "outputs": [],
   "source": []
  },
  {
   "cell_type": "code",
   "execution_count": null,
   "metadata": {},
   "outputs": [],
   "source": []
  },
  {
   "cell_type": "code",
   "execution_count": null,
   "metadata": {},
   "outputs": [],
   "source": []
  }
 ],
 "metadata": {
  "kernelspec": {
   "display_name": "Python 3",
   "language": "python",
   "name": "python3"
  },
  "language_info": {
   "codemirror_mode": {
    "name": "ipython",
    "version": 3
   },
   "file_extension": ".py",
   "mimetype": "text/x-python",
   "name": "python",
   "nbconvert_exporter": "python",
   "pygments_lexer": "ipython3",
   "version": "3.7.3"
  }
 },
 "nbformat": 4,
 "nbformat_minor": 4
}
