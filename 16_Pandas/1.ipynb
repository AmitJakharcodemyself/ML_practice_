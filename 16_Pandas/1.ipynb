{
 "cells": [
  {
   "cell_type": "code",
   "execution_count": 2,
   "metadata": {},
   "outputs": [],
   "source": [
    "import numpy as np\n",
    "import pandas as pd"
   ]
  },
  {
   "cell_type": "code",
   "execution_count": 3,
   "metadata": {},
   "outputs": [
    {
     "name": "stdout",
     "output_type": "stream",
     "text": [
      "[95 26 97 61 62]\n",
      "<class 'numpy.ndarray'>\n"
     ]
    }
   ],
   "source": [
    "x=np.random.randint(1,100,5)\n",
    "print(x)\n",
    "print(type(x))"
   ]
  },
  {
   "cell_type": "code",
   "execution_count": 4,
   "metadata": {},
   "outputs": [
    {
     "name": "stdout",
     "output_type": "stream",
     "text": [
      "[95, 26, 97, 61, 62]\n",
      "<class 'list'>\n"
     ]
    }
   ],
   "source": [
    "xx=list(x)\n",
    "print(xx)\n",
    "print(type(xx))"
   ]
  },
  {
   "cell_type": "code",
   "execution_count": 5,
   "metadata": {},
   "outputs": [
    {
     "name": "stdout",
     "output_type": "stream",
     "text": [
      "<class 'dict'>\n"
     ]
    }
   ],
   "source": [
    "user_data={\n",
    "    \"marks A\":list(np.random.randint(1,100,5)),\n",
    "    \"marks B\":list(np.random.randint(1,100,5)),\n",
    "    \"marks C\":list(np.random.randint(1,100,5))\n",
    "    \n",
    "}\n",
    "print(type(user_data))"
   ]
  },
  {
   "cell_type": "code",
   "execution_count": 6,
   "metadata": {},
   "outputs": [],
   "source": [
    "# data frame\n",
    "df=pd.DataFrame(user_data,dtype='float32')\n"
   ]
  },
  {
   "cell_type": "code",
   "execution_count": 7,
   "metadata": {},
   "outputs": [
    {
     "name": "stdout",
     "output_type": "stream",
     "text": [
      "<class 'pandas.core.frame.DataFrame'>\n",
      "   marks A  marks B  marks C\n",
      "0      7.0     51.0     96.0\n",
      "1     73.0     39.0     51.0\n",
      "2     84.0     58.0     10.0\n",
      "3     87.0     77.0     57.0\n",
      "4      5.0     77.0     95.0\n"
     ]
    }
   ],
   "source": [
    "print(type(df))\n",
    "print(df)"
   ]
  },
  {
   "cell_type": "code",
   "execution_count": 8,
   "metadata": {},
   "outputs": [
    {
     "name": "stdout",
     "output_type": "stream",
     "text": [
      "   marks A  marks B  marks C\n",
      "0      7.0     51.0     96.0\n",
      "1     73.0     39.0     51.0\n",
      "2     84.0     58.0     10.0\n",
      "3     87.0     77.0     57.0\n",
      "4      5.0     77.0     95.0\n",
      "   marks A  marks B  marks C\n",
      "0      7.0     51.0     96.0\n",
      "1     73.0     39.0     51.0\n",
      "2     84.0     58.0     10.0\n"
     ]
    }
   ],
   "source": [
    "print(df.head())\n",
    "print(df.head(3))"
   ]
  },
  {
   "cell_type": "code",
   "execution_count": 9,
   "metadata": {},
   "outputs": [],
   "source": [
    "# df to csv file\n",
    "# file name=marks.csv\n",
    "df.to_csv(\"marks.csv\")"
   ]
  },
  {
   "cell_type": "code",
   "execution_count": 10,
   "metadata": {},
   "outputs": [
    {
     "name": "stdout",
     "output_type": "stream",
     "text": [
      "   Unnamed: 0  marks A  marks B  marks C\n",
      "0           0      7.0     51.0     96.0\n",
      "1           1     73.0     39.0     51.0\n",
      "2           2     84.0     58.0     10.0\n",
      "3           3     87.0     77.0     57.0\n",
      "4           4      5.0     77.0     95.0\n",
      "<class 'pandas.core.frame.DataFrame'>\n"
     ]
    }
   ],
   "source": [
    "my_data=pd.read_csv(\"marks.csv\")\n",
    "print(my_data)\n",
    "print(type(my_data))"
   ]
  },
  {
   "cell_type": "code",
   "execution_count": 11,
   "metadata": {},
   "outputs": [
    {
     "name": "stdout",
     "output_type": "stream",
     "text": [
      "   marks A  marks B  marks C\n",
      "0      7.0     51.0     96.0\n",
      "1     73.0     39.0     51.0\n",
      "2     84.0     58.0     10.0\n",
      "3     87.0     77.0     57.0\n",
      "4      5.0     77.0     95.0\n",
      "<class 'pandas.core.frame.DataFrame'>\n"
     ]
    }
   ],
   "source": [
    "# to drom a coloumn from my data file\n",
    "my_data=my_data.drop(columns=['Unnamed: 0'])\n",
    "print(my_data)\n",
    "print(type(my_data))# still a data frame"
   ]
  },
  {
   "cell_type": "markdown",
   "metadata": {},
   "source": [
    "## Panda Basics-2"
   ]
  },
  {
   "cell_type": "code",
   "execution_count": 20,
   "metadata": {},
   "outputs": [
    {
     "name": "stdout",
     "output_type": "stream",
     "text": [
      "         marks A    marks B    marks C\n",
      "count   5.000000   5.000000   5.000000\n",
      "mean   58.000000  36.600000  52.600000\n",
      "std    34.022052  19.969977  32.400617\n",
      "min     9.000000  16.000000   7.000000\n",
      "25%    50.000000  17.000000  36.000000\n",
      "50%    52.000000  38.000000  60.000000\n",
      "75%    81.000000  52.000000  68.000000\n",
      "max    98.000000  60.000000  92.000000\n"
     ]
    }
   ],
   "source": [
    " # describe a my_data\n",
    "print(my_data.describe())"
   ]
  },
  {
   "cell_type": "code",
   "execution_count": 21,
   "metadata": {},
   "outputs": [
    {
     "data": {
      "text/html": [
       "<div>\n",
       "<style scoped>\n",
       "    .dataframe tbody tr th:only-of-type {\n",
       "        vertical-align: middle;\n",
       "    }\n",
       "\n",
       "    .dataframe tbody tr th {\n",
       "        vertical-align: top;\n",
       "    }\n",
       "\n",
       "    .dataframe thead th {\n",
       "        text-align: right;\n",
       "    }\n",
       "</style>\n",
       "<table border=\"1\" class=\"dataframe\">\n",
       "  <thead>\n",
       "    <tr style=\"text-align: right;\">\n",
       "      <th></th>\n",
       "      <th>marks A</th>\n",
       "      <th>marks B</th>\n",
       "      <th>marks C</th>\n",
       "    </tr>\n",
       "  </thead>\n",
       "  <tbody>\n",
       "    <tr>\n",
       "      <th>3</th>\n",
       "      <td>98.0</td>\n",
       "      <td>38.0</td>\n",
       "      <td>36.0</td>\n",
       "    </tr>\n",
       "    <tr>\n",
       "      <th>4</th>\n",
       "      <td>50.0</td>\n",
       "      <td>52.0</td>\n",
       "      <td>68.0</td>\n",
       "    </tr>\n",
       "  </tbody>\n",
       "</table>\n",
       "</div>"
      ],
      "text/plain": [
       "   marks A  marks B  marks C\n",
       "3     98.0     38.0     36.0\n",
       "4     50.0     52.0     68.0"
      ]
     },
     "execution_count": 21,
     "metadata": {},
     "output_type": "execute_result"
    }
   ],
   "source": [
    "my_data.tail(2)"
   ]
  },
  {
   "cell_type": "code",
   "execution_count": 12,
   "metadata": {},
   "outputs": [
    {
     "name": "stdout",
     "output_type": "stream",
     "text": [
      "marks A    84.0\n",
      "marks B    58.0\n",
      "marks C    10.0\n",
      "Name: 2, dtype: float64\n",
      "<class 'pandas.core.series.Series'>\n"
     ]
    }
   ],
   "source": [
    "# how to access particu;ar row or column\n",
    "# row\n",
    "print(my_data.iloc[2])\n",
    "print(type(my_data.iloc[2]))# but this is not a data frame (it's a series but still array-like DS so we can convert it to Data Frames)"
   ]
  },
  {
   "cell_type": "markdown",
   "metadata": {},
   "source": [
    "- we can convert this data into list and dict also but dict is preferrable"
   ]
  },
  {
   "cell_type": "code",
   "execution_count": 27,
   "metadata": {},
   "outputs": [],
   "source": [
    "lp=my_data.iloc[2]\n",
    "lp_l=list(lp)\n",
    "lp_dict=dict(lp)"
   ]
  },
  {
   "cell_type": "code",
   "execution_count": 28,
   "metadata": {},
   "outputs": [
    {
     "name": "stdout",
     "output_type": "stream",
     "text": [
      "[9.0, 17.0, 92.0]\n",
      "{'marks A': 9.0, 'marks B': 17.0, 'marks C': 92.0}\n"
     ]
    }
   ],
   "source": [
    "print(lp_l)\n",
    "print(lp_dict)"
   ]
  },
  {
   "cell_type": "code",
   "execution_count": 29,
   "metadata": {},
   "outputs": [
    {
     "name": "stdout",
     "output_type": "stream",
     "text": [
      "<class 'list'>\n",
      "<class 'dict'>\n"
     ]
    }
   ],
   "source": [
    "print(type(lp_l))\n",
    "print(type(lp_dict))"
   ]
  },
  {
   "cell_type": "code",
   "execution_count": 33,
   "metadata": {},
   "outputs": [
    {
     "name": "stdout",
     "output_type": "stream",
     "text": [
      "38.0\n",
      "<class 'numpy.float64'>\n"
     ]
    }
   ],
   "source": [
    "# Row & column\n",
    "print(my_data.iloc[3,1])\n",
    "print(type(my_data.iloc[3,1]))"
   ]
  },
  {
   "cell_type": "code",
   "execution_count": 37,
   "metadata": {},
   "outputs": [
    {
     "name": "stdout",
     "output_type": "stream",
     "text": [
      "0\n"
     ]
    }
   ],
   "source": [
    "# how to find column index in my_data\n",
    "idx=my_data.columns.get_loc('marks A')\n",
    "print(idx)"
   ]
  },
  {
   "cell_type": "code",
   "execution_count": 38,
   "metadata": {},
   "outputs": [
    {
     "name": "stdout",
     "output_type": "stream",
     "text": [
      "0\n"
     ]
    }
   ],
   "source": [
    "# same for df \n",
    "idx=my_data.columns.get_loc('marks A')\n",
    "print(idx)"
   ]
  },
  {
   "cell_type": "code",
   "execution_count": 39,
   "metadata": {},
   "outputs": [
    {
     "name": "stdout",
     "output_type": "stream",
     "text": [
      "38.0\n"
     ]
    }
   ],
   "source": [
    "print(my_data.iloc[3][1])"
   ]
  },
  {
   "cell_type": "code",
   "execution_count": 40,
   "metadata": {},
   "outputs": [
    {
     "name": "stdout",
     "output_type": "stream",
     "text": [
      "[0, 2]\n",
      "   marks A  marks C\n",
      "0     52.0      7.0\n",
      "1     81.0     60.0\n",
      "2      9.0     92.0\n"
     ]
    }
   ],
   "source": [
    "idx=[my_data.columns.get_loc('marks A'),my_data.columns.get_loc('marks C')]\n",
    "print(idx)\n",
    "print(my_data.iloc[:3,idx])"
   ]
  },
  {
   "cell_type": "code",
   "execution_count": 43,
   "metadata": {},
   "outputs": [
    {
     "name": "stdout",
     "output_type": "stream",
     "text": [
      "   marks B  marks C\n",
      "0     60.0      7.0\n",
      "1     16.0     60.0\n",
      "2     17.0     92.0\n",
      "3     38.0     36.0\n",
      "4     52.0     68.0\n"
     ]
    }
   ],
   "source": [
    "dct=my_data.iloc[:,[1,2]]\n",
    "print(my_data.iloc[:,[1,2]])"
   ]
  },
  {
   "cell_type": "code",
   "execution_count": 50,
   "metadata": {},
   "outputs": [
    {
     "name": "stdout",
     "output_type": "stream",
     "text": [
      "0    60.0\n",
      "1    16.0\n",
      "2    17.0\n",
      "3    38.0\n",
      "4    52.0\n",
      "Name: marks B, dtype: float64\n",
      "<class 'pandas.core.series.Series'>\n",
      "[60.0, 16.0, 17.0, 38.0, 52.0]\n",
      "<class 'list'>\n",
      "{0: 60.0, 1: 16.0, 2: 17.0, 3: 38.0, 4: 52.0}\n",
      "<class 'dict'>\n"
     ]
    }
   ],
   "source": [
    "# How to traverse\n",
    "# so to traverse convert data_fram or my_data in traversable Data Syricture like Dict or List but if Data has rows and columns then\n",
    "# it is preferrable using nested dict ;like we donr below ->dictionary after dictionory\n",
    "# Or we can use np.arrya as we can convert it to np.array using < my_data.values >\n",
    "dct=dict(dct)\n",
    "#print(dct)\n",
    "print(dct['marks B'])\n",
    "lst=list(dct['marks B'])\n",
    "lst_dict=dict(dct['marks B'])\n",
    "print(type(dct['marks B']))\n",
    "print(lst)\n",
    "print(type(lst))\n",
    "print(lst_dict)\n",
    "print(type(lst_dict))"
   ]
  },
  {
   "cell_type": "code",
   "execution_count": null,
   "metadata": {},
   "outputs": [],
   "source": [
    "## Sorting on data_frame"
   ]
  },
  {
   "cell_type": "code",
   "execution_count": 51,
   "metadata": {},
   "outputs": [
    {
     "data": {
      "text/html": [
       "<div>\n",
       "<style scoped>\n",
       "    .dataframe tbody tr th:only-of-type {\n",
       "        vertical-align: middle;\n",
       "    }\n",
       "\n",
       "    .dataframe tbody tr th {\n",
       "        vertical-align: top;\n",
       "    }\n",
       "\n",
       "    .dataframe thead th {\n",
       "        text-align: right;\n",
       "    }\n",
       "</style>\n",
       "<table border=\"1\" class=\"dataframe\">\n",
       "  <thead>\n",
       "    <tr style=\"text-align: right;\">\n",
       "      <th></th>\n",
       "      <th>marks A</th>\n",
       "      <th>marks B</th>\n",
       "      <th>marks C</th>\n",
       "    </tr>\n",
       "  </thead>\n",
       "  <tbody>\n",
       "    <tr>\n",
       "      <th>0</th>\n",
       "      <td>52.0</td>\n",
       "      <td>60.0</td>\n",
       "      <td>7.0</td>\n",
       "    </tr>\n",
       "    <tr>\n",
       "      <th>1</th>\n",
       "      <td>81.0</td>\n",
       "      <td>16.0</td>\n",
       "      <td>60.0</td>\n",
       "    </tr>\n",
       "    <tr>\n",
       "      <th>2</th>\n",
       "      <td>9.0</td>\n",
       "      <td>17.0</td>\n",
       "      <td>92.0</td>\n",
       "    </tr>\n",
       "    <tr>\n",
       "      <th>3</th>\n",
       "      <td>98.0</td>\n",
       "      <td>38.0</td>\n",
       "      <td>36.0</td>\n",
       "    </tr>\n",
       "    <tr>\n",
       "      <th>4</th>\n",
       "      <td>50.0</td>\n",
       "      <td>52.0</td>\n",
       "      <td>68.0</td>\n",
       "    </tr>\n",
       "  </tbody>\n",
       "</table>\n",
       "</div>"
      ],
      "text/plain": [
       "   marks A  marks B  marks C\n",
       "0     52.0     60.0      7.0\n",
       "1     81.0     16.0     60.0\n",
       "2      9.0     17.0     92.0\n",
       "3     98.0     38.0     36.0\n",
       "4     50.0     52.0     68.0"
      ]
     },
     "execution_count": 51,
     "metadata": {},
     "output_type": "execute_result"
    }
   ],
   "source": [
    "my_data"
   ]
  },
  {
   "cell_type": "code",
   "execution_count": 53,
   "metadata": {},
   "outputs": [
    {
     "name": "stdout",
     "output_type": "stream",
     "text": [
      "   marks A  marks B  marks C\n",
      "2      9.0     17.0     92.0\n",
      "4     50.0     52.0     68.0\n",
      "0     52.0     60.0      7.0\n",
      "1     81.0     16.0     60.0\n",
      "3     98.0     38.0     36.0\n"
     ]
    }
   ],
   "source": [
    "sort_1=my_data.sort_values(by=['marks A'],ascending=True)\n",
    "print(sort_1)"
   ]
  },
  {
   "cell_type": "code",
   "execution_count": 54,
   "metadata": {},
   "outputs": [
    {
     "name": "stdout",
     "output_type": "stream",
     "text": [
      "   marks A  marks B  marks C\n",
      "0     52.0     60.0      7.0\n",
      "4     50.0     52.0     68.0\n",
      "3     98.0     38.0     36.0\n",
      "2      9.0     17.0     92.0\n",
      "1     81.0     16.0     60.0\n",
      "   marks A  marks B  marks C\n",
      "0     52.0     60.0      7.0\n",
      "1     81.0     16.0     60.0\n",
      "2      9.0     17.0     92.0\n",
      "3     98.0     38.0     36.0\n",
      "4     50.0     52.0     68.0\n"
     ]
    }
   ],
   "source": [
    "sort_2=my_data.sort_values(by=['marks B'],ascending=False)\n",
    "print(sort_2)\n",
    "print(my_data)"
   ]
  },
  {
   "cell_type": "code",
   "execution_count": 56,
   "metadata": {},
   "outputs": [
    {
     "name": "stdout",
     "output_type": "stream",
     "text": [
      "   marks A  marks B  marks C\n",
      "2      9.0     17.0     92.0\n",
      "4     50.0     52.0     68.0\n",
      "1     81.0     16.0     60.0\n",
      "3     98.0     38.0     36.0\n",
      "0     52.0     60.0      7.0\n"
     ]
    }
   ],
   "source": [
    "sort_3=my_data.sort_values(by=['marks C','marks A'],ascending=False) # priority goes to c \n",
    "print(sort_3)"
   ]
  },
  {
   "cell_type": "code",
   "execution_count": 57,
   "metadata": {},
   "outputs": [
    {
     "name": "stdout",
     "output_type": "stream",
     "text": [
      "<class 'numpy.ndarray'>\n",
      "[[52. 60.  7.]\n",
      " [81. 16. 60.]\n",
      " [ 9. 17. 92.]\n",
      " [98. 38. 36.]\n",
      " [50. 52. 68.]]\n"
     ]
    }
   ],
   "source": [
    "# convert into np.array \n",
    "data_array=my_data.values\n",
    "print(type(data_array))\n",
    "print(data_array)"
   ]
  },
  {
   "cell_type": "code",
   "execution_count": 58,
   "metadata": {},
   "outputs": [
    {
     "name": "stdout",
     "output_type": "stream",
     "text": [
      "   physics  chemistry  math\n",
      "0       52         60     7\n",
      "1       81         16    60\n",
      "2        9         17    92\n",
      "3       98         38    36\n",
      "4       50         52    68\n"
     ]
    }
   ],
   "source": [
    "## Numpy array to Data Frame **imp\n",
    "new_df=pd.DataFrame(data_array,dtype='int32',columns=[\"physics\",\"chemistry\",\"math\"])\n",
    "print(new_df)"
   ]
  },
  {
   "cell_type": "code",
   "execution_count": 62,
   "metadata": {},
   "outputs": [],
   "source": [
    "## new_df to csv file \n",
    "new_df.to_csv(\"pcm.csv\",index=False) # to avoid unnamed extra indexing column otherwise we'll have to remove usinf drop method\n"
   ]
  },
  {
   "cell_type": "code",
   "execution_count": 64,
   "metadata": {},
   "outputs": [
    {
     "name": "stdout",
     "output_type": "stream",
     "text": [
      "   physics  chemistry  math\n",
      "0       52         60     7\n",
      "1       81         16    60\n",
      "2        9         17    92\n",
      "3       98         38    36\n",
      "4       50         52    68\n"
     ]
    }
   ],
   "source": [
    "pcm=pd.read_csv('pcm.csv')\n",
    "print(pcm)"
   ]
  },
  {
   "cell_type": "code",
   "execution_count": 65,
   "metadata": {},
   "outputs": [
    {
     "name": "stdout",
     "output_type": "stream",
     "text": [
      "[[52 60  7]\n",
      " [81 16 60]\n",
      " [ 9 17 92]\n",
      " [98 38 36]\n",
      " [50 52 68]]\n",
      "<class 'numpy.ndarray'>\n"
     ]
    }
   ],
   "source": [
    "# so again to find np.array\n",
    "np_array=pcm.values\n",
    "print(np_array)\n",
    "print(type(np_array))"
   ]
  },
  {
   "cell_type": "markdown",
   "metadata": {},
   "source": [
    "### NOTE: all operation on data frames like getting column,getting row, sorting col. droping doesn't change it's data type (still Data frame\n"
   ]
  },
  {
   "cell_type": "code",
   "execution_count": null,
   "metadata": {},
   "outputs": [],
   "source": []
  }
 ],
 "metadata": {
  "kernelspec": {
   "display_name": "Python 3",
   "language": "python",
   "name": "python3"
  },
  "language_info": {
   "codemirror_mode": {
    "name": "ipython",
    "version": 3
   },
   "file_extension": ".py",
   "mimetype": "text/x-python",
   "name": "python",
   "nbconvert_exporter": "python",
   "pygments_lexer": "ipython3",
   "version": "3.7.3"
  }
 },
 "nbformat": 4,
 "nbformat_minor": 4
}
