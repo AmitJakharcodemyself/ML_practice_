{
 "cells": [
  {
   "cell_type": "code",
   "execution_count": 4,
   "metadata": {},
   "outputs": [],
   "source": [
    "#Tensor\n",
    "# T[x][y][z]=>x,y denotes co-ordinate point of image and z denotes channel no.\n",
    "import numpy as np\n",
    "T=np.zeros((5,5,3),dtype='uint8')"
   ]
  },
  {
   "cell_type": "code",
   "execution_count": 5,
   "metadata": {},
   "outputs": [
    {
     "name": "stdout",
     "output_type": "stream",
     "text": [
      "[[[0 0 0]\n",
      "  [0 0 0]\n",
      "  [0 0 0]\n",
      "  [0 0 0]\n",
      "  [0 0 0]]\n",
      "\n",
      " [[0 0 0]\n",
      "  [0 0 0]\n",
      "  [0 0 0]\n",
      "  [0 0 0]\n",
      "  [0 0 0]]\n",
      "\n",
      " [[0 0 0]\n",
      "  [0 0 0]\n",
      "  [0 0 0]\n",
      "  [0 0 0]\n",
      "  [0 0 0]]\n",
      "\n",
      " [[0 0 0]\n",
      "  [0 0 0]\n",
      "  [0 0 0]\n",
      "  [0 0 0]\n",
      "  [0 0 0]]\n",
      "\n",
      " [[0 0 0]\n",
      "  [0 0 0]\n",
      "  [0 0 0]\n",
      "  [0 0 0]\n",
      "  [0 0 0]]]\n"
     ]
    }
   ],
   "source": [
    "print(T)"
   ]
  },
  {
   "cell_type": "code",
   "execution_count": 6,
   "metadata": {},
   "outputs": [
    {
     "name": "stdout",
     "output_type": "stream",
     "text": [
      "[[[255   0   0]\n",
      "  [255   0   0]\n",
      "  [255   0   0]\n",
      "  [255   0   0]\n",
      "  [255   0   0]]\n",
      "\n",
      " [[255   0   0]\n",
      "  [255   0   0]\n",
      "  [255   0   0]\n",
      "  [255   0   0]\n",
      "  [255   0   0]]\n",
      "\n",
      " [[255   0   0]\n",
      "  [255   0   0]\n",
      "  [255   0   0]\n",
      "  [255   0   0]\n",
      "  [255   0   0]]\n",
      "\n",
      " [[255   0   0]\n",
      "  [255   0   0]\n",
      "  [255   0   0]\n",
      "  [255   0   0]\n",
      "  [255   0   0]]\n",
      "\n",
      " [[255   0   0]\n",
      "  [255   0   0]\n",
      "  [255   0   0]\n",
      "  [255   0   0]\n",
      "  [255   0   0]]]\n"
     ]
    }
   ],
   "source": [
    "# to define a pixel to red color tuple=(255,0,0)\n",
    "T[:,:,0]=255\n",
    "print(T)"
   ]
  },
  {
   "cell_type": "code",
   "execution_count": 8,
   "metadata": {},
   "outputs": [
    {
     "data": {
      "image/png": "[encoded data removed]",
      "text/plain": [
       "<Figure size 432x288 with 1 Axes>"
      ]
     },
     "metadata": {
      "needs_background": "light"
     },
     "output_type": "display_data"
    }
   ],
   "source": [
    "import matplotlib.pyplot as plt\n",
    "plt.imshow(T)\n",
    "plt.show()"
   ]
  },
  {
   "cell_type": "code",
   "execution_count": null,
   "metadata": {},
   "outputs": [],
   "source": []
  }
 ],
 "metadata": {
  "kernelspec": {
   "display_name": "Python 3",
   "language": "python",
   "name": "python3"
  },
  "language_info": {
   "codemirror_mode": {
    "name": "ipython",
    "version": 3
   },
   "file_extension": ".py",
   "mimetype": "text/x-python",
   "name": "python",
   "nbconvert_exporter": "python",
   "pygments_lexer": "ipython3",
   "version": "3.7.3"
  }
 },
 "nbformat": 4,
 "nbformat_minor": 4
}
