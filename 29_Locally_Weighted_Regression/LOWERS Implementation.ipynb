{
 "cells": [
  {
   "cell_type": "markdown",
   "metadata": {},
   "source": [
    "## Localy Weighted regression\n",
    "1) Read and Normalise the Dataset\n",
    "\n",
    "2) Generate W for every query point!\n",
    "\n",
    "3) No training is involved, directly make predictions using closed form solution we dervied!\n",
    "\n",
    "(X′WX)inv * X′WY where X' is X_Transpose\n",
    "\n",
    "4) Find the best value of Tau(Bandwidth Parameter) [Cross Validation]\n",
    "\n"
   ]
  },
  {
   "cell_type": "markdown",
   "metadata": {},
   "source": [
    "##### Locally weighted regression can be used for any number_featured dataset"
   ]
  },
  {
   "cell_type": "code",
   "execution_count": 10,
   "metadata": {},
   "outputs": [],
   "source": [
    "import numpy as np\n",
    "import pandas as pd\n",
    "import matplotlib.pyplot as plt\n",
    "%matplotlib inline"
   ]
  },
  {
   "cell_type": "code",
   "execution_count": 11,
   "metadata": {},
   "outputs": [],
   "source": [
    "# data frames of single feature\n",
    "dfx=pd.read_csv('locally_weighted_x.csv')\n",
    "dfy=pd.read_csv(\"locally_weighted_y.csv\")\n"
   ]
  },
  {
   "cell_type": "code",
   "execution_count": 12,
   "metadata": {},
   "outputs": [
    {
     "name": "stdout",
     "output_type": "stream",
     "text": [
      "(99, 1)\n",
      "(99, 1)\n"
     ]
    }
   ],
   "source": [
    "X=dfx.values\n",
    "Y=dfy.values\n",
    "print(X.shape)\n",
    "print(Y.shape)"
   ]
  },
  {
   "cell_type": "code",
   "execution_count": 13,
   "metadata": {},
   "outputs": [],
   "source": [
    "# Normalization of data\n",
    "u=np.mean(X,axis=0)\n",
    "std=np.std(X,axis=0)\n",
    "X=(X-u)/std"
   ]
  },
  {
   "cell_type": "code",
   "execution_count": 14,
   "metadata": {},
   "outputs": [
    {
     "data": {
      "image/png": "[encoded data removed]",
      "text/plain": [
       "<Figure size 576x396 with 1 Axes>"
      ]
     },
     "metadata": {},
     "output_type": "display_data"
    }
   ],
   "source": [
    "plt.style.use(\"seaborn\")\n",
    "plt.scatter(X,Y,color=\"orange\")\n",
    "plt.show()"
   ]
  },
  {
   "cell_type": "markdown",
   "metadata": {},
   "source": [
    "## Find out W(MxM) diagonal atrix/nd array -> M=X.shape[0]"
   ]
  },
  {
   "cell_type": "code",
   "execution_count": 15,
   "metadata": {},
   "outputs": [],
   "source": [
    "\n",
    "#print(type(np.mat(np.eye(5))))\n",
    "\n",
    "#a*b ==> a,b -->matrices -->Matrix Multicplication\n",
    "#a*b ==>? a,b -->arrays --->Element Wise"
   ]
  },
  {
   "cell_type": "code",
   "execution_count": 62,
   "metadata": {},
   "outputs": [],
   "source": [
    "def getW(query_point,X,tau):\n",
    "    M=X.shape[0]\n",
    "    W=np.eye(M)# diagonal matrix\n",
    "    for i in range(M):\n",
    "        xi=X[i]\n",
    "        x=query_point\n",
    "        vect=xi-x\n",
    "        W[i,i]=np.exp(-1*(np.dot(vect,vect.T)/(2*tau*tau)))#no need to do transpose an vector's transpose have same shape \n",
    "        # as of vector itself\n",
    "        # but if it's not a vector then we'l have to do -> **imp**\n",
    "    return W"
   ]
  },
  {
   "cell_type": "code",
   "execution_count": 63,
   "metadata": {},
   "outputs": [
    {
     "name": "stdout",
     "output_type": "stream",
     "text": [
      "(99, 99)\n",
      "[[0.99997933 0.         0.         ... 0.         0.         0.        ]\n",
      " [0.         0.99999834 0.         ... 0.         0.         0.        ]\n",
      " [0.         0.         0.99997917 ... 0.         0.         0.        ]\n",
      " ...\n",
      " [0.         0.         0.         ... 0.99994881 0.         0.        ]\n",
      " [0.         0.         0.         ... 0.         0.99987121 0.        ]\n",
      " [0.         0.         0.         ... 0.         0.         0.99975348]]\n"
     ]
    }
   ],
   "source": [
    "X = np.mat(X)\n",
    "Y = np.mat(Y)\n",
    "M = X.shape[0]\n",
    "\n",
    "W = getW(-1,X,100)\n",
    "print(W.shape)\n",
    "print(W)"
   ]
  },
  {
   "cell_type": "code",
   "execution_count": 64,
   "metadata": {},
   "outputs": [
    {
     "name": "stdout",
     "output_type": "stream",
     "text": [
      "(99, 99)\n",
      "[[0.89483694 0.         0.         ... 0.         0.         0.        ]\n",
      " [0.         0.85316996 0.         ... 0.         0.         0.        ]\n",
      " [0.         0.         0.89505219 ... 0.         0.         0.        ]\n",
      " ...\n",
      " [0.         0.         0.         ... 0.92398643 0.         0.        ]\n",
      " [0.         0.         0.         ... 0.         0.96182667 0.        ]\n",
      " [0.         0.         0.         ... 0.         0.         0.9879235 ]]\n"
     ]
    }
   ],
   "source": [
    "w=getW(2,X,5)\n",
    "print(w.shape)\n",
    "print(w)"
   ]
  },
  {
   "cell_type": "markdown",
   "metadata": {},
   "source": [
    "## Make Prediction"
   ]
  },
  {
   "cell_type": "code",
   "execution_count": 83,
   "metadata": {},
   "outputs": [],
   "source": [
    "def predict_y(X,Y,query_pt,tau):\n",
    "    # add dummy column of 1's in X\n",
    "    m=X.shape[0]\n",
    "    ones=np.ones((m,1))# a matrix\n",
    "    print(ones.shape)\n",
    "    X_=np.hstack((ones,X))\n",
    "    X_=np.mat(X_)\n",
    "    print(X_.shape)\n",
    "    # dummy feature to query_pt also\n",
    "    qx=np.mat([1,query_pt])\n",
    "    # get W\n",
    "    w=getW(qx,X_,tau)\n",
    "    \n",
    "    #theta=np.dot(np.linalg.pinv(np.dot(np.dot(X_.T,w),X)))\n",
    "    # Note-> to avoid repeating dot product convert every nd array or vector to matrix\n",
    "    theta=np.linalg.pinv(X_.T*(w*X_))*(X_.T*(w*Y))\n",
    "    print(theta.shape)\n",
    "    print(type(theta))\n",
    "    print(type(theta[0]))\n",
    "    print(qx.shape)\n",
    "    pred=np.dot(qx,theta)\n",
    "    return theta,theta.T*qx.T,pred"
   ]
  },
  {
   "cell_type": "code",
   "execution_count": 84,
   "metadata": {},
   "outputs": [
    {
     "name": "stdout",
     "output_type": "stream",
     "text": [
      "(99, 1)\n",
      "(99, 2)\n",
      "(2, 1)\n",
      "<class 'numpy.matrix'>\n",
      "<class 'numpy.matrix'>\n",
      "(1, 2)\n"
     ]
    }
   ],
   "source": [
    "theta,prediction_mat,pred=predict_y(X,Y,2,3)"
   ]
  },
  {
   "cell_type": "code",
   "execution_count": 85,
   "metadata": {},
   "outputs": [
    {
     "name": "stdout",
     "output_type": "stream",
     "text": [
      "[[1.07764573]\n",
      " [0.68965956]]\n",
      "[[2.45696484]]\n",
      "[[2.45696484]]\n"
     ]
    }
   ],
   "source": [
    "print(theta)\n",
    "print(prediction_mat)\n",
    "print(pred)"
   ]
  },
  {
   "cell_type": "code",
   "execution_count": null,
   "metadata": {},
   "outputs": [],
   "source": []
  },
  {
   "cell_type": "code",
   "execution_count": null,
   "metadata": {},
   "outputs": [],
   "source": []
  }
 ],
 "metadata": {
  "kernelspec": {
   "display_name": "Python 3",
   "language": "python",
   "name": "python3"
  },
  "language_info": {
   "codemirror_mode": {
    "name": "ipython",
    "version": 3
   },
   "file_extension": ".py",
   "mimetype": "text/x-python",
   "name": "python",
   "nbconvert_exporter": "python",
   "pygments_lexer": "ipython3",
   "version": "3.7.3"
  }
 },
 "nbformat": 4,
 "nbformat_minor": 4
}
